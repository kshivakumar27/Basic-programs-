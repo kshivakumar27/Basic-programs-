{
 "cells": [
  {
   "cell_type": "code",
   "execution_count": 6,
   "metadata": {},
   "outputs": [],
   "source": [
    "import pandas as pd\n",
    "import numpy as np\n",
    "\n",
    "data = pd.read_csv(\"enjoy_sport.csv\")\n",
    "concept = np.array(data.iloc[:,0:-1])\n",
    "target = np.array(data.iloc[:,-1])\n"
   ]
  },
  {
   "cell_type": "code",
   "execution_count": 7,
   "metadata": {},
   "outputs": [
    {
     "name": "stdout",
     "output_type": "stream",
     "text": [
      "['sunny' 'warm' 'normal' 'strong' 'warm' 'same']\n",
      "[['?', '?', '?', '?', '?', '?'], ['?', '?', '?', '?', '?', '?'], ['?', '?', '?', '?', '?', '?'], ['?', '?', '?', '?', '?', '?'], ['?', '?', '?', '?', '?', '?'], ['?', '?', '?', '?', '?', '?']]\n"
     ]
    }
   ],
   "source": [
    "for z in range(len(target)):\n",
    "    if target[z] == 'yes':\n",
    "        sh = concept[z]\n",
    "        break\n",
    "\n",
    "gh = [['?' for i in range(len(sh))] for i in range(len(sh))]\n",
    "print(sh)\n",
    "print(gh)"
   ]
  },
  {
   "cell_type": "code",
   "execution_count": 8,
   "metadata": {},
   "outputs": [
    {
     "name": "stdout",
     "output_type": "stream",
     "text": [
      "['sunny' 'warm' '?' 'strong' '?' '?']\n",
      "[['sunny', '?', '?', '?', '?', '?'], ['?', 'warm', '?', '?', '?', '?'], ['?', '?', '?', '?', '?', '?'], ['?', '?', '?', '?', '?', '?'], ['?', '?', '?', '?', '?', '?'], ['?', '?', '?', '?', '?', '?']]\n"
     ]
    }
   ],
   "source": [
    "for j in range(len(target)):\n",
    "    if target[j] == 'yes':\n",
    "        temp = concept[j]\n",
    "        for k in range(len(sh)):\n",
    "            if sh[k] == temp[k]:\n",
    "                pass\n",
    "            else:\n",
    "                sh[k] = '?'\n",
    "                gh[k][k] = '?'\n",
    "                \n",
    "    if target[j] == 'no':\n",
    "        temp = concept[j]\n",
    "        for k in range(len(sh)):\n",
    "            if sh[k] == temp[k]:\n",
    "                pass\n",
    "            else:\n",
    "                gh[k][k] = sh[k]\n",
    "                \n",
    "print(sh)\n",
    "print(gh)"
   ]
  },
  {
   "cell_type": "code",
   "execution_count": 9,
   "metadata": {},
   "outputs": [
    {
     "name": "stdout",
     "output_type": "stream",
     "text": [
      "[2, 3, 4, 5]\n"
     ]
    }
   ],
   "source": [
    "lst = ['?' for i in range(len(sh))]\n",
    "index = [i for i,val in enumerate(gh) if val == lst]\n",
    "print(index)"
   ]
  },
  {
   "cell_type": "code",
   "execution_count": 10,
   "metadata": {},
   "outputs": [
    {
     "name": "stdout",
     "output_type": "stream",
     "text": [
      "Specific hypothesis:\n",
      "['sunny' 'warm' '?' 'strong' '?' '?']\n",
      "General hypothesis:\n",
      "[['sunny', '?', '?', '?', '?', '?'], ['?', 'warm', '?', '?', '?', '?']]\n"
     ]
    }
   ],
   "source": [
    "for y in index:\n",
    "    gh.remove(lst)\n",
    "    \n",
    "print('Specific hypothesis:',sh,sep = '\\n')\n",
    "print('General hypothesis:',gh,sep = '\\n')"
   ]
  }
 ],
 "metadata": {
  "kernelspec": {
   "display_name": "Python 3",
   "language": "python",
   "name": "python3"
  },
  "language_info": {
   "codemirror_mode": {
    "name": "ipython",
    "version": 3
   },
   "file_extension": ".py",
   "mimetype": "text/x-python",
   "name": "python",
   "nbconvert_exporter": "python",
   "pygments_lexer": "ipython3",
   "version": "3.7.0"
  }
 },
 "nbformat": 4,
 "nbformat_minor": 2
}
